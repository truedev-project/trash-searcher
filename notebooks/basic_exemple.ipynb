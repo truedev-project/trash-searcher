{
  "cells": [
    {
      "cell_type": "markdown",
      "metadata": {
        "id": "view-in-github",
        "colab_type": "text"
      },
      "source": [
        "<a href=\"https://colab.research.google.com/github/truedev-project/trash-searcher/blob/5-link-github-and-colab/notebooks/basic_exemple.ipynb\" target=\"_parent\"><img src=\"https://colab.research.google.com/assets/colab-badge.svg\" alt=\"Open In Colab\"/></a>"
      ]
    },
    {
      "metadata": {
        "id": "88380867febe26f5"
      },
      "cell_type": "raw",
      "source": [
        "### This is a basic example of the uses of the Trash Searcher Project."
      ],
      "id": "88380867febe26f5"
    },
    {
      "metadata": {
        "jupyter": {
          "is_executing": true
        },
        "colab": {
          "base_uri": "https://localhost:8080/"
        },
        "id": "748a7521042780fe",
        "outputId": "7502e737-dbca-41cd-9121-43318dc86a3f"
      },
      "cell_type": "code",
      "source": [
        "print(\"Welcome to Trash Searcher, amigo! 😉\")"
      ],
      "id": "748a7521042780fe",
      "outputs": [
        {
          "output_type": "stream",
          "name": "stdout",
          "text": [
            "Welcome to Trash Searcher, amigo! 😉\n"
          ]
        }
      ],
      "execution_count": null
    },
    {
      "cell_type": "code",
      "source": [
        "print(\"Hello from Colab!\")"
      ],
      "metadata": {
        "id": "y1Itvd6W9jV4"
      },
      "id": "y1Itvd6W9jV4",
      "execution_count": null,
      "outputs": []
    }
  ],
  "metadata": {
    "kernelspec": {
      "display_name": "Python 3",
      "language": "python",
      "name": "python3"
    },
    "language_info": {
      "codemirror_mode": {
        "name": "ipython",
        "version": 2
      },
      "file_extension": ".py",
      "mimetype": "text/x-python",
      "name": "python",
      "nbconvert_exporter": "python",
      "pygments_lexer": "ipython2",
      "version": "2.7.6"
    },
    "colab": {
      "provenance": [],
      "include_colab_link": true
    }
  },
  "nbformat": 4,
  "nbformat_minor": 5
}