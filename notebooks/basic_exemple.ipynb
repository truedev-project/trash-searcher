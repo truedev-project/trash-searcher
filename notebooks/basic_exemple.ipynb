{
 "cells": [
  {
   "metadata": {},
   "cell_type": "raw",
   "source": "### This is a basic example of the uses of the Trash Searcher Project.",
   "id": "88380867febe26f5"
  },
  {
   "metadata": {
    "jupyter": {
     "is_executing": true
    }
   },
   "cell_type": "code",
   "source": "print(\"Welcome to Trash Searcher, amigo! 😉\")",
   "id": "748a7521042780fe",
   "outputs": [],
   "execution_count": null
  }
 ],
 "metadata": {
  "kernelspec": {
   "display_name": "Python 3",
   "language": "python",
   "name": "python3"
  },
  "language_info": {
   "codemirror_mode": {
    "name": "ipython",
    "version": 2
   },
   "file_extension": ".py",
   "mimetype": "text/x-python",
   "name": "python",
   "nbconvert_exporter": "python",
   "pygments_lexer": "ipython2",
   "version": "2.7.6"
  }
 },
 "nbformat": 4,
 "nbformat_minor": 5
}
